{
 "cells": [
  {
   "cell_type": "markdown",
   "id": "5f4b0559",
   "metadata": {},
   "source": [
    "Write a Python Program to find sum of array?"
   ]
  },
  {
   "cell_type": "code",
   "execution_count": 1,
   "id": "12947c1b",
   "metadata": {},
   "outputs": [],
   "source": [
    "def sumarr():\n",
    "    \"\"\"\n",
    "    This functions is to find sum of an array\n",
    "    \"\"\"\n",
    "    try:\n",
    "        a=eval(input(\"Enter an array:\"))\n",
    "        s=0\n",
    "        for i in a:\n",
    "            s+=i\n",
    "    except Exception as e:\n",
    "        print(e)\n",
    "    else:\n",
    "        return s"
   ]
  },
  {
   "cell_type": "code",
   "execution_count": 2,
   "id": "1e3638bc",
   "metadata": {},
   "outputs": [
    {
     "name": "stdout",
     "output_type": "stream",
     "text": [
      "Enter an array:1,2,3,4,5\n"
     ]
    },
    {
     "data": {
      "text/plain": [
       "15"
      ]
     },
     "execution_count": 2,
     "metadata": {},
     "output_type": "execute_result"
    }
   ],
   "source": [
    "sumarr()"
   ]
  },
  {
   "cell_type": "markdown",
   "id": "2b1e2a87",
   "metadata": {},
   "source": [
    "Write a Python Program to find largest element in an array?"
   ]
  },
  {
   "cell_type": "code",
   "execution_count": 3,
   "id": "9740ffcc",
   "metadata": {},
   "outputs": [],
   "source": [
    "def largest():\n",
    "    \"\"\"\n",
    "    This function is to find largest element in an array\n",
    "    \"\"\"\n",
    "    try:\n",
    "        a=eval(input(\"Enter an array:\"))\n",
    "    except Exception as e:\n",
    "        print(e)\n",
    "    else:\n",
    "        return sorted(a, reverse = True)[0]"
   ]
  },
  {
   "cell_type": "code",
   "execution_count": 4,
   "id": "1b7b6212",
   "metadata": {},
   "outputs": [
    {
     "name": "stdout",
     "output_type": "stream",
     "text": [
      "Enter an array:69,79,89,111,11,12,45\n"
     ]
    },
    {
     "data": {
      "text/plain": [
       "111"
      ]
     },
     "execution_count": 4,
     "metadata": {},
     "output_type": "execute_result"
    }
   ],
   "source": [
    "largest()"
   ]
  },
  {
   "cell_type": "markdown",
   "id": "217ebc53",
   "metadata": {},
   "source": [
    "Write a Python Program for array rotation?"
   ]
  },
  {
   "cell_type": "code",
   "execution_count": 5,
   "id": "0bc34943",
   "metadata": {},
   "outputs": [],
   "source": [
    "def reverse_rotation():\n",
    "    \"\"\"\n",
    "    A function to reverse an array\n",
    "    \"\"\"\n",
    "    try:\n",
    "        a=eval(input(\"Enter an array\"))\n",
    "    except Exception as e:\n",
    "        print(e)\n",
    "    else:\n",
    "        return a[::-1]"
   ]
  },
  {
   "cell_type": "code",
   "execution_count": 6,
   "id": "a40bb8ee",
   "metadata": {},
   "outputs": [
    {
     "name": "stdout",
     "output_type": "stream",
     "text": [
      "Enter an array1,2,3,4,5\n"
     ]
    },
    {
     "data": {
      "text/plain": [
       "(5, 4, 3, 2, 1)"
      ]
     },
     "execution_count": 6,
     "metadata": {},
     "output_type": "execute_result"
    }
   ],
   "source": [
    "reverse_rotation()"
   ]
  },
  {
   "cell_type": "markdown",
   "id": "49c9b194",
   "metadata": {},
   "source": [
    "Write a Python Program to Split the array and add the first part to the end?"
   ]
  },
  {
   "cell_type": "code",
   "execution_count": 7,
   "id": "e8559241",
   "metadata": {},
   "outputs": [],
   "source": [
    "def split_add():\n",
    "    \"\"\"\n",
    "    Function to Split the array and add the first part to the end\n",
    "    \"\"\"\n",
    "    try:\n",
    "        a=eval(input(\"Enter an array:\"))\n",
    "        n=eval(input(\"Enter the no to break/split:\"))\n",
    "    except Exception as e:\n",
    "        print(e)\n",
    "    else:\n",
    "        return a[n:]+a[:n]"
   ]
  },
  {
   "cell_type": "code",
   "execution_count": 8,
   "id": "ae1d670b",
   "metadata": {},
   "outputs": [
    {
     "name": "stdout",
     "output_type": "stream",
     "text": [
      "Enter an array:5,4,3,1,2\n",
      "Enter the no to break/split:2\n"
     ]
    },
    {
     "data": {
      "text/plain": [
       "(3, 1, 2, 5, 4)"
      ]
     },
     "execution_count": 8,
     "metadata": {},
     "output_type": "execute_result"
    }
   ],
   "source": [
    "split_add()"
   ]
  },
  {
   "cell_type": "code",
   "execution_count": 9,
   "id": "4d87c4b7",
   "metadata": {},
   "outputs": [],
   "source": [
    "def isMonotonic():\n",
    "    \"\"\"\n",
    "    Function to check whether an array is monotonic or not\n",
    "    \"\"\"\n",
    "    try:\n",
    "        A=eval(input(\"Enter an array:\"))\n",
    "    except Exception as e:\n",
    "        print(e)\n",
    "    else:\n",
    "        return (all(A[i] <= A[i + 1] for i in range(len(A) - 1)) or\n",
    "                all(A[i] >= A[i + 1] for i in range(len(A) - 1)))"
   ]
  },
  {
   "cell_type": "code",
   "execution_count": 10,
   "id": "5058b32c",
   "metadata": {},
   "outputs": [
    {
     "name": "stdout",
     "output_type": "stream",
     "text": [
      "Enter an array:1,2,3,4,5,6,9,10\n"
     ]
    },
    {
     "data": {
      "text/plain": [
       "True"
      ]
     },
     "execution_count": 10,
     "metadata": {},
     "output_type": "execute_result"
    }
   ],
   "source": [
    "isMonotonic()"
   ]
  }
 ],
 "metadata": {
  "kernelspec": {
   "display_name": "Python 3",
   "language": "python",
   "name": "python3"
  },
  "language_info": {
   "codemirror_mode": {
    "name": "ipython",
    "version": 3
   },
   "file_extension": ".py",
   "mimetype": "text/x-python",
   "name": "python",
   "nbconvert_exporter": "python",
   "pygments_lexer": "ipython3",
   "version": "3.8.8"
  }
 },
 "nbformat": 4,
 "nbformat_minor": 5
}
