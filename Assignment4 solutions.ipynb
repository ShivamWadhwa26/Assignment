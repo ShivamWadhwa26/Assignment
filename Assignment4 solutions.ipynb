{
 "cells": [
  {
   "cell_type": "markdown",
   "id": "b7b01392",
   "metadata": {},
   "source": [
    "Write a Python Program to Find the Factorial of a Number?"
   ]
  },
  {
   "cell_type": "code",
   "execution_count": 1,
   "id": "bcb5d863",
   "metadata": {},
   "outputs": [
    {
     "name": "stdout",
     "output_type": "stream",
     "text": [
      "Enter a number to find it's factorial:5\n"
     ]
    },
    {
     "data": {
      "text/plain": [
       "120"
      ]
     },
     "execution_count": 1,
     "metadata": {},
     "output_type": "execute_result"
    }
   ],
   "source": [
    "def factorial(x):\n",
    "    s=1\n",
    "    for i in range(1,x+1):\n",
    "        s=s*i\n",
    "    return s\n",
    "factorial(int(input(\"Enter a number to find it's factorial:\")))"
   ]
  },
  {
   "cell_type": "markdown",
   "id": "2e28c0ab",
   "metadata": {},
   "source": [
    "Write a Python Program to Display the multiplication Table?"
   ]
  },
  {
   "cell_type": "code",
   "execution_count": 2,
   "id": "26dc8796",
   "metadata": {},
   "outputs": [
    {
     "name": "stdout",
     "output_type": "stream",
     "text": [
      "Enter a number to display it's multiplication table:5\n",
      "5 x 1 = 5\n",
      "5 x 2 = 10\n",
      "5 x 3 = 15\n",
      "5 x 4 = 20\n",
      "5 x 5 = 25\n",
      "5 x 6 = 30\n",
      "5 x 7 = 35\n",
      "5 x 8 = 40\n",
      "5 x 9 = 45\n",
      "5 x 10 = 50\n"
     ]
    }
   ],
   "source": [
    "def table(x):\n",
    "    for i in range(1,11):\n",
    "        print(x,\"x\",i,\"=\",x*i)\n",
    "        \n",
    "table(int(input(\"Enter a number to display it's multiplication table:\")))"
   ]
  },
  {
   "cell_type": "markdown",
   "id": "b38468af",
   "metadata": {},
   "source": [
    "Write a Python Program to Print the Fibonacci sequence?"
   ]
  },
  {
   "cell_type": "code",
   "execution_count": 3,
   "id": "3a2160e7",
   "metadata": {},
   "outputs": [
    {
     "name": "stdout",
     "output_type": "stream",
     "text": [
      "Enter a number to print the list of Fibonacci sequence5\n",
      "[0, 1, 1, 2, 3]\n"
     ]
    }
   ],
   "source": [
    "def fibonacci(x):\n",
    "    a=0\n",
    "    b=1\n",
    "    s=0\n",
    "    l=[0]\n",
    "    for i in range(x-1):\n",
    "        s=a+b\n",
    "        b=a\n",
    "        a=s\n",
    "        l.append(s)\n",
    "    print(l)\n",
    "\n",
    "fibonacci(int(input(\"Enter a number to print the list of Fibonacci sequence\")))"
   ]
  },
  {
   "cell_type": "markdown",
   "id": "ff9434b5",
   "metadata": {},
   "source": [
    "Write a Python Program to Check Armstrong Number?"
   ]
  },
  {
   "cell_type": "code",
   "execution_count": 4,
   "id": "37fad0b9",
   "metadata": {},
   "outputs": [
    {
     "name": "stdout",
     "output_type": "stream",
     "text": [
      "Enter a no to check whether it is armstrong or not:153\n",
      "153 is an armstrong number\n"
     ]
    }
   ],
   "source": [
    "def order(n):\n",
    "    p=0\n",
    "    while n>0:\n",
    "        p=p+1\n",
    "        n=n//10\n",
    "    return p\n",
    "\n",
    "def armstrong(x):\n",
    "    x1=x\n",
    "    y=order(x)\n",
    "    s=0\n",
    "    while x>0:\n",
    "        z=x%10\n",
    "        s+=z**y\n",
    "        x=x//10\n",
    "    \n",
    "    if x1==s:\n",
    "        print(x1,\"is an armstrong number\")\n",
    "    else:\n",
    "        print(x1,\"is not an armstrong number\")\n",
    "\n",
    "armstrong(int(input(\"Enter a no to check whether it is armstrong or not:\")))        "
   ]
  },
  {
   "cell_type": "markdown",
   "id": "1ad1bbd8",
   "metadata": {},
   "source": [
    "Write a Python Program to Find Armstrong Number in an Interval?"
   ]
  },
  {
   "cell_type": "code",
   "execution_count": 5,
   "id": "c666e58a",
   "metadata": {},
   "outputs": [
    {
     "name": "stdout",
     "output_type": "stream",
     "text": [
      "Enter lower limt:100\n",
      "Enter upper limt:1000\n",
      "List of armstrong numbers between 100 and 1000 : [153, 370, 371, 407]\n"
     ]
    }
   ],
   "source": [
    "def order(n):\n",
    "    p=0\n",
    "    while n>0:\n",
    "        p=p+1\n",
    "        n=n//10\n",
    "    return p\n",
    "\n",
    "def armstrong(x):\n",
    "    x1=x\n",
    "    y=order(x)\n",
    "    s=0\n",
    "    while x>0:\n",
    "        z=x%10\n",
    "        s+=z**y\n",
    "        x=x//10\n",
    "    \n",
    "    if x1==s:\n",
    "        return x1\n",
    "\n",
    "def armstrongrange(a,b):\n",
    "    l=[]\n",
    "    for i in list(range(a,b+1)):\n",
    "        p=armstrong(i)\n",
    "        if p!=None:\n",
    "            l.append(i)\n",
    "    print(\"List of armstrong numbers between\",a,\"and\",b,\":\",l)\n",
    "\n",
    "armstrongrange(a=int(input(\"Enter lower limt:\")),b=int(input(\"Enter upper limt:\")))"
   ]
  },
  {
   "cell_type": "markdown",
   "id": "b93363d6",
   "metadata": {},
   "source": [
    "Write a Python Program to Find the Sum of Natural Numbers?"
   ]
  },
  {
   "cell_type": "code",
   "execution_count": 6,
   "id": "11c07098",
   "metadata": {},
   "outputs": [],
   "source": [
    "def naturalsum(x):\n",
    "    s=0\n",
    "    for i in range(0,x+1):\n",
    "        s=s+i\n",
    "    return s"
   ]
  },
  {
   "cell_type": "code",
   "execution_count": 7,
   "id": "965ed7f2",
   "metadata": {},
   "outputs": [
    {
     "data": {
      "text/plain": [
       "5050"
      ]
     },
     "execution_count": 7,
     "metadata": {},
     "output_type": "execute_result"
    }
   ],
   "source": [
    "naturalsum(100)"
   ]
  }
 ],
 "metadata": {
  "kernelspec": {
   "display_name": "Python 3",
   "language": "python",
   "name": "python3"
  },
  "language_info": {
   "codemirror_mode": {
    "name": "ipython",
    "version": 3
   },
   "file_extension": ".py",
   "mimetype": "text/x-python",
   "name": "python",
   "nbconvert_exporter": "python",
   "pygments_lexer": "ipython3",
   "version": "3.8.8"
  }
 },
 "nbformat": 4,
 "nbformat_minor": 5
}
