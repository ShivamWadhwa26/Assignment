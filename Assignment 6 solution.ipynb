{
 "cells": [
  {
   "cell_type": "markdown",
   "id": "f71c6203",
   "metadata": {},
   "source": [
    "Write a Python Program to Display Fibonacci Sequence Using Recursion?"
   ]
  },
  {
   "cell_type": "code",
   "execution_count": 1,
   "id": "473df150",
   "metadata": {},
   "outputs": [],
   "source": [
    "def recur_fibo(n):\n",
    "    \"\"\"\n",
    "    This function is to calculate each term of fibbonaci sequence\n",
    "    \"\"\"\n",
    "    if n <= 1:\n",
    "        return n\n",
    "    else:\n",
    "        return(recur_fibo(n-1) + recur_fibo(n-2))\n",
    "\n",
    "def fibbonacci():\n",
    "    \"\"\"\n",
    "    Function to list fibbonacci sequence\n",
    "    \"\"\"\n",
    "    try:\n",
    "        n=int(input(\"Enter no. of elements you want in fibbonaci sequence:\"))\n",
    "        f=[]\n",
    "        if n <= 0:\n",
    "            print(\"Plese enter a positive integer\")\n",
    "        print(\"Fibonacci sequence:\")\n",
    "        for i in range(n):\n",
    "            f.append(recur_fibo(i))\n",
    "    except Exception as e:\n",
    "        print(e)\n",
    "    else:\n",
    "        print(f)"
   ]
  },
  {
   "cell_type": "code",
   "execution_count": 2,
   "id": "2b3f48af",
   "metadata": {},
   "outputs": [
    {
     "name": "stdout",
     "output_type": "stream",
     "text": [
      "Enter no. of elements you want in fibbonaci sequence:6\n",
      "Fibonacci sequence:\n",
      "[0, 1, 1, 2, 3, 5]\n"
     ]
    }
   ],
   "source": [
    "fibbonacci()"
   ]
  },
  {
   "cell_type": "markdown",
   "id": "cd1efdf8",
   "metadata": {},
   "source": [
    "Write a Python Program to Find Factorial of Number Using Recursion?"
   ]
  },
  {
   "cell_type": "code",
   "execution_count": 14,
   "id": "0b1f99dc",
   "metadata": {},
   "outputs": [],
   "source": [
    "def recur_factorial(n):\n",
    "    \"\"\"\n",
    "    Function to iterate factorial terms\n",
    "    \"\"\"\n",
    "    if n<=1:\n",
    "        return 1\n",
    "    else:\n",
    "        return n*recur_factorial(n-1)\n",
    "\n",
    "def factorial():\n",
    "    \"\"\"\n",
    "    Function to calculate Factorial of a no.\n",
    "    \"\"\"\n",
    "    try:\n",
    "        n=int(input(\"Enter a no. to find Factorial:\"))\n",
    "        f=recur_factorial(n)\n",
    "    except Exception as e:\n",
    "        print(e)\n",
    "    else:\n",
    "        print(\"Factorial of\",n,\"is\",f)"
   ]
  },
  {
   "cell_type": "code",
   "execution_count": 15,
   "id": "62ba41d4",
   "metadata": {},
   "outputs": [
    {
     "name": "stdout",
     "output_type": "stream",
     "text": [
      "Enter a no. to find Factorial:5\n",
      "Factorial of 5 is 120\n"
     ]
    }
   ],
   "source": [
    "factorial()"
   ]
  },
  {
   "cell_type": "markdown",
   "id": "7ac2a8ee",
   "metadata": {},
   "source": [
    "Write a Python Program to calculate your Body Mass Index?"
   ]
  },
  {
   "cell_type": "code",
   "execution_count": 12,
   "id": "e85c99cf",
   "metadata": {},
   "outputs": [],
   "source": [
    "def bmi():\n",
    "    \"\"\"\n",
    "    This function is to find BMI of a body\n",
    "    \"\"\"\n",
    "    try:\n",
    "        weight=int(input(\"Enter a weight of a body in kilograms:\"))\n",
    "        height=int(input(\"Enter a height of a body in metres:\"))\n",
    "        bmi=weight/(height**2)\n",
    "    except Exception as e:\n",
    "        print(e)\n",
    "    else:\n",
    "        print(\"BMI of a body with\",weight,\"kg weight and\",height,\"m height:\",bmi)"
   ]
  },
  {
   "cell_type": "code",
   "execution_count": 13,
   "id": "1776bce8",
   "metadata": {},
   "outputs": [
    {
     "name": "stdout",
     "output_type": "stream",
     "text": [
      "Enter a weight of a body in kilograms:75\n",
      "Enter a height of a body in metres:5\n",
      "BMI of a body with 75 kg weight and 5 m height: 3.0\n"
     ]
    }
   ],
   "source": [
    "bmi()"
   ]
  },
  {
   "cell_type": "markdown",
   "id": "53de3537",
   "metadata": {},
   "source": [
    "Write a Python Program to calculate the natural logarithm of any number?"
   ]
  },
  {
   "cell_type": "code",
   "execution_count": 7,
   "id": "7cb94f21",
   "metadata": {},
   "outputs": [],
   "source": [
    "import math\n",
    "def natural_log():\n",
    "    \"\"\"\n",
    "    Function to calculate the natural log of a no.\n",
    "    \"\"\"\n",
    "    try:\n",
    "        n=int(input(\"Enter a positive number to find its natural log:\"))\n",
    "        x=math.log(n)\n",
    "    except Exception as e:\n",
    "        print(e)\n",
    "    else: \n",
    "        print(\"Natural log of\",n,\"is\",x)\n",
    "    "
   ]
  },
  {
   "cell_type": "code",
   "execution_count": 8,
   "id": "5439ad3a",
   "metadata": {},
   "outputs": [
    {
     "name": "stdout",
     "output_type": "stream",
     "text": [
      "Enter a positive number to find its natural log:25\n",
      "Natural log of 25 is 3.2188758248682006\n"
     ]
    }
   ],
   "source": [
    "natural_log()"
   ]
  },
  {
   "cell_type": "markdown",
   "id": "8fb98803",
   "metadata": {},
   "source": [
    "Write a Python Program for cube sum of first n natural numbers?"
   ]
  },
  {
   "cell_type": "code",
   "execution_count": 9,
   "id": "13a2b52c",
   "metadata": {},
   "outputs": [],
   "source": [
    "def cubesum():\n",
    "    \"\"\"\n",
    "    Function to find cube sum of n natural numbers\n",
    "    \"\"\"\n",
    "    try:\n",
    "        n=int(input(\"Enter no. of terms to find its cube sum:\"))\n",
    "        s=0\n",
    "        for i in range(n+1):\n",
    "            s+=i**3\n",
    "    except Exception as e:\n",
    "        print(e)\n",
    "    else:\n",
    "        print(\"cube sum of first\",n,\"natural no:\",s)"
   ]
  },
  {
   "cell_type": "code",
   "execution_count": 10,
   "id": "cf67f8b1",
   "metadata": {},
   "outputs": [
    {
     "name": "stdout",
     "output_type": "stream",
     "text": [
      "Enter no. of terms to find its cube sum:5\n",
      "cube sum of first 5 natural no: 225\n"
     ]
    }
   ],
   "source": [
    "cubesum()"
   ]
  },
  {
   "cell_type": "code",
   "execution_count": null,
   "id": "2bc3949f",
   "metadata": {},
   "outputs": [],
   "source": []
  }
 ],
 "metadata": {
  "kernelspec": {
   "display_name": "Python 3",
   "language": "python",
   "name": "python3"
  },
  "language_info": {
   "codemirror_mode": {
    "name": "ipython",
    "version": 3
   },
   "file_extension": ".py",
   "mimetype": "text/x-python",
   "name": "python",
   "nbconvert_exporter": "python",
   "pygments_lexer": "ipython3",
   "version": "3.8.8"
  }
 },
 "nbformat": 4,
 "nbformat_minor": 5
}
