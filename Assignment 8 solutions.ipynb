{
 "cells": [
  {
   "cell_type": "markdown",
   "id": "f2b32a14",
   "metadata": {},
   "source": [
    "Write a Python Program to Add Two Matrices?"
   ]
  },
  {
   "cell_type": "code",
   "execution_count": 1,
   "id": "62362c34",
   "metadata": {},
   "outputs": [],
   "source": [
    "def matrixsum(X,Y):\n",
    "    \"\"\"\n",
    "    Program to Add Two Matrices\n",
    "    \"\"\"\n",
    "    try:\n",
    "        result = [[0,0,0],[0,0,0],[0,0,0]]\n",
    "        for i in range(len(X)):\n",
    "            for j in range(len(Y[0])):\n",
    "                result[i][j]=X[i][j]+Y[i][j]\n",
    "    except Exception as e:\n",
    "        print(e)\n",
    "    else:\n",
    "        print(result) "
   ]
  },
  {
   "cell_type": "code",
   "execution_count": 2,
   "id": "bb9e2c0c",
   "metadata": {},
   "outputs": [
    {
     "name": "stdout",
     "output_type": "stream",
     "text": [
      "[[17, 15, 4], [10, 12, 9], [11, 13, 18]]\n"
     ]
    }
   ],
   "source": [
    "X = [[12,7,3],\n",
    "    [4 ,5,6],\n",
    "    [7 ,8,9]]\n",
    "\n",
    "Y = [[5,8,1],\n",
    "    [6,7,3],\n",
    "    [4,5,9]]\n",
    "\n",
    "matrixsum(X,Y)"
   ]
  },
  {
   "cell_type": "markdown",
   "id": "a8cee09d",
   "metadata": {},
   "source": [
    "Write a Python Program to Multiply Two Matrices?"
   ]
  },
  {
   "cell_type": "code",
   "execution_count": 3,
   "id": "06d6a154",
   "metadata": {},
   "outputs": [],
   "source": [
    "def matrixmul(A,B):\n",
    "    \"\"\"\n",
    "    Program to Add Two Matrices\n",
    "    \"\"\"\n",
    "    try:\n",
    "        result = [[0,0],[0,0]]\n",
    "        # iterating by row of A\n",
    "        for i in range(len(A)):\n",
    " \n",
    "    # iterating by column by B\n",
    "            for j in range(len(B[0])):\n",
    " \n",
    "        # iterating by rows of B\n",
    "                for k in range(len(B)):\n",
    "                    result[i][j] += A[i][k] * B[k][j]\n",
    "    except Exception as e:\n",
    "        print(e)\n",
    "    else:\n",
    "        print(result)"
   ]
  },
  {
   "cell_type": "code",
   "execution_count": 4,
   "id": "af6b1718",
   "metadata": {},
   "outputs": [
    {
     "name": "stdout",
     "output_type": "stream",
     "text": [
      "[[7, 10], [15, 22]]\n"
     ]
    }
   ],
   "source": [
    "A=[[1,2],[3,4]] \n",
    "B=[[1,2],[3,4]]\n",
    "matrixmul(A,B)"
   ]
  },
  {
   "cell_type": "markdown",
   "id": "278995de",
   "metadata": {},
   "source": [
    "Write a Python Program to Transpose a Matrix?"
   ]
  },
  {
   "cell_type": "code",
   "execution_count": 5,
   "id": "4e8f02e4",
   "metadata": {},
   "outputs": [],
   "source": [
    "def matrixtrans(X):\n",
    "    \"\"\"\n",
    "    Program to Transpose a Matrix\n",
    "    \"\"\"\n",
    "    try:\n",
    "        result = [[0,0,0],[0,0,0]]\n",
    "        # iterate through rows\n",
    "        for i in range(len(X)):\n",
    "   # iterate through columns\n",
    "           for j in range(len(X[0])):\n",
    "               result[j][i] = X[i][j]\n",
    " \n",
    "    except Exception as e:\n",
    "        print(e)\n",
    "    else:\n",
    "        print(result)"
   ]
  },
  {
   "cell_type": "code",
   "execution_count": 6,
   "id": "d21e5f4c",
   "metadata": {},
   "outputs": [
    {
     "name": "stdout",
     "output_type": "stream",
     "text": [
      "[[1, 3, 5], [2, 4, 6]]\n"
     ]
    }
   ],
   "source": [
    "X=[[1,2],[3,4],[5,6]] \n",
    "matrixtrans(X)"
   ]
  },
  {
   "cell_type": "markdown",
   "id": "1ffe576c",
   "metadata": {},
   "source": [
    "Write a Python Program to Sort Words in Alphabetic Order?"
   ]
  },
  {
   "cell_type": "code",
   "execution_count": 7,
   "id": "928bfbea",
   "metadata": {},
   "outputs": [],
   "source": [
    "def sortwords():\n",
    "    \"\"\"\n",
    "    Program to Sort Words in Alphabetic Order\n",
    "    \"\"\"\n",
    "    try:\n",
    "        x=input(\"Enter a string to sort alphabetically:\")\n",
    "        x=x.lower()\n",
    "        y=x.split()\n",
    "        y.sort()\n",
    "    except Exception as e:\n",
    "        print(e)\n",
    "    else:\n",
    "        return \" \".join(y)"
   ]
  },
  {
   "cell_type": "code",
   "execution_count": 8,
   "id": "a705e2c7",
   "metadata": {},
   "outputs": [
    {
     "name": "stdout",
     "output_type": "stream",
     "text": [
      "Enter a string to sort alphabetically:now let's sort the string alphabetically\n"
     ]
    },
    {
     "data": {
      "text/plain": [
       "\"alphabetically let's now sort string the\""
      ]
     },
     "execution_count": 8,
     "metadata": {},
     "output_type": "execute_result"
    }
   ],
   "source": [
    "sortwords()"
   ]
  },
  {
   "cell_type": "markdown",
   "id": "a440c9ba",
   "metadata": {},
   "source": [
    "Write a Python Program to Remove Punctuation From a String?"
   ]
  },
  {
   "cell_type": "code",
   "execution_count": 9,
   "id": "d77cff72",
   "metadata": {},
   "outputs": [],
   "source": [
    "def removePunc():\n",
    "    try:\n",
    "        x = str(input(\"Enter a string with punctuations: \"))\n",
    "        punc = '''!()-[]{};:'\"\\,<>./?@#$%^&*_~'''\n",
    "        for i in x:\n",
    "            if i in punc:\n",
    "                x = x.replace(i, \"\")\n",
    "    except Exception as e:\n",
    "        print(e)\n",
    "    else:\n",
    "        print(x)"
   ]
  },
  {
   "cell_type": "code",
   "execution_count": 10,
   "id": "915d53d2",
   "metadata": {},
   "outputs": [
    {
     "name": "stdout",
     "output_type": "stream",
     "text": [
      "Enter a string with punctuations: wohh!! this sound cool@<>!!\n",
      "wohh this sound cool\n"
     ]
    }
   ],
   "source": [
    "removePunc()"
   ]
  },
  {
   "cell_type": "code",
   "execution_count": null,
   "id": "ded32720",
   "metadata": {},
   "outputs": [],
   "source": []
  },
  {
   "cell_type": "code",
   "execution_count": null,
   "id": "5b5d4f15",
   "metadata": {},
   "outputs": [],
   "source": []
  }
 ],
 "metadata": {
  "kernelspec": {
   "display_name": "Python 3",
   "language": "python",
   "name": "python3"
  },
  "language_info": {
   "codemirror_mode": {
    "name": "ipython",
    "version": 3
   },
   "file_extension": ".py",
   "mimetype": "text/x-python",
   "name": "python",
   "nbconvert_exporter": "python",
   "pygments_lexer": "ipython3",
   "version": "3.8.8"
  }
 },
 "nbformat": 4,
 "nbformat_minor": 5
}
