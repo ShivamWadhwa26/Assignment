{
 "cells": [
  {
   "cell_type": "markdown",
   "id": "6b9a6fc4",
   "metadata": {},
   "source": [
    "Write a Python Program to Find LCM?"
   ]
  },
  {
   "cell_type": "code",
   "execution_count": 1,
   "id": "6eae2e1e",
   "metadata": {},
   "outputs": [],
   "source": [
    "def findlcm():\n",
    "    \"\"\"\n",
    "    Function to find LCM of two numbers\n",
    "    \"\"\"\n",
    "    try:\n",
    "        x=int(input(\"Enter first no:\"))\n",
    "        y=int(input(\"Enter second no:\"))\n",
    "\n",
    "        if x>y:\n",
    "            greater=x\n",
    "        else:\n",
    "            greater=y\n",
    "            \n",
    "        while(True):\n",
    "            if greater%x==0 and greater%y==0:\n",
    "                lcm=greater\n",
    "                break\n",
    "            greater+=1\n",
    "    except ValueError:\n",
    "        print(\"Please Check the input and enter a number\")\n",
    "    except Exception as e:\n",
    "        print(e)    \n",
    "    else:\n",
    "        print(\"The LCM of\",x,\"and\",y,\":\",lcm)"
   ]
  },
  {
   "cell_type": "code",
   "execution_count": null,
   "id": "0fd8e4e0",
   "metadata": {},
   "outputs": [
    {
     "name": "stdout",
     "output_type": "stream",
     "text": [
      "Enter first no:50\n"
     ]
    }
   ],
   "source": [
    "findlcm()"
   ]
  },
  {
   "cell_type": "markdown",
   "id": "e4c0237a",
   "metadata": {},
   "source": [
    "Write a Python Program to Find HCF?"
   ]
  },
  {
   "cell_type": "code",
   "execution_count": null,
   "id": "1417f94f",
   "metadata": {},
   "outputs": [],
   "source": [
    "def findhcf():\n",
    "    \"\"\"\n",
    "    Function to find HCF of two numbers\n",
    "    \"\"\"\n",
    "    try:\n",
    "        x=int(input(\"Enter first no:\"))\n",
    "        y=int(input(\"Enter second no:\"))\n",
    "        if x>y:\n",
    "            smaller=x\n",
    "        else:\n",
    "            smaller=y\n",
    "\n",
    "        for i in range(1,smaller+1):\n",
    "            if (x%i)==0 and (y%i)==0:\n",
    "                hcf=i\n",
    "                \n",
    "    except ValueError:\n",
    "        print(\"Please Check the input and enter a number\")            \n",
    "    except Exception as e:\n",
    "        print(e)   \n",
    "    else:\n",
    "        print(\"The HCF of\",x,\"and\",y,\":\",hcf)"
   ]
  },
  {
   "cell_type": "code",
   "execution_count": null,
   "id": "534151b9",
   "metadata": {},
   "outputs": [],
   "source": [
    "findhcf()"
   ]
  },
  {
   "cell_type": "markdown",
   "id": "6a1bfe99",
   "metadata": {},
   "source": [
    "Write a Python Program to Convert Decimal to Binary, Octal and Hexadecimal?"
   ]
  },
  {
   "cell_type": "code",
   "execution_count": null,
   "id": "93d066d2",
   "metadata": {},
   "outputs": [],
   "source": [
    "def dec_conversion():\n",
    "    \"\"\"\n",
    "    This function converts Decimal to Binary, Octal and Hexadecimal\n",
    "    \"\"\"\n",
    "    try:\n",
    "        dec = int(input(\"Enter a Decimal no to covert:\"))\n",
    "        binary=bin(dec)\n",
    "        octal=oct(dec)\n",
    "        hexadecimal=hex(dec)\n",
    "    except ValueError:\n",
    "        print(\"Please Check the input and enter a number\")\n",
    "    except Exception as e:\n",
    "        print(e)\n",
    "    else:\n",
    "        print(\"Decimal\",dec,\"in Binary:\",binary)\n",
    "        print(\"Decimal\",dec,\"in Octal:\",octal)\n",
    "        print(\"Decimal\",dec,\"in Hexadecimal:\",hexadecimal)"
   ]
  },
  {
   "cell_type": "code",
   "execution_count": null,
   "id": "e311b28b",
   "metadata": {},
   "outputs": [],
   "source": [
    "dec_conversion()"
   ]
  },
  {
   "cell_type": "markdown",
   "id": "53487d24",
   "metadata": {},
   "source": [
    "Write a Python Program To Find ASCII value of a character?"
   ]
  },
  {
   "cell_type": "code",
   "execution_count": null,
   "id": "c89d01cb",
   "metadata": {},
   "outputs": [],
   "source": [
    "def ascii_value(c):\n",
    "    \"\"\"\n",
    "    This function is to find ASCII value of a character\n",
    "    x: Enter a Character of length 1\n",
    "    \"\"\"\n",
    "    try:\n",
    "        ord(c)\n",
    "    except TypeError:\n",
    "        print(\"Please Check the argument and enter a character\")\n",
    "    except Exception as e:\n",
    "        print(e)\n",
    "    else:\n",
    "        print(\"ASCII value of\",c,\"is\",ord(c))"
   ]
  },
  {
   "cell_type": "code",
   "execution_count": null,
   "id": "a3b527d4",
   "metadata": {},
   "outputs": [],
   "source": [
    "ascii_value(\"s\")"
   ]
  },
  {
   "cell_type": "markdown",
   "id": "841e1e09",
   "metadata": {},
   "source": [
    "Write a Python Program to Make a Simple Calculator with 4 basic mathematical operations?"
   ]
  },
  {
   "cell_type": "code",
   "execution_count": null,
   "id": "64d2b223",
   "metadata": {},
   "outputs": [],
   "source": [
    "def basic_arithmetic():\n",
    "    \"\"\"\n",
    "    This function is to perform basic arithmetic operation on two numbers\n",
    "    \"\"\"\n",
    "    try:\n",
    "        a=int(input(\"Enter a first no:\"))\n",
    "        b=int(input(\"Enter second no:\"))\n",
    "        add=a+b\n",
    "        sub=a-b\n",
    "        mul=a*b\n",
    "        div=a/b\n",
    "    except ValueError:\n",
    "        print(\"Please Check the input and enter a number\")\n",
    "    except Exception as e:\n",
    "        print(e)\n",
    "    else:\n",
    "        print(\"Addition of\",a,\"and\",b,\":\",add)\n",
    "        print(\"Subtraction of\",a,\"and\",b,\":\",sub)\n",
    "        print(\"Multiplication of\",a,\"and\",b,\":\",mul)\n",
    "        print(\"Division of\",a,\"by\",b,\":\",div)"
   ]
  },
  {
   "cell_type": "code",
   "execution_count": null,
   "id": "390ae5df",
   "metadata": {},
   "outputs": [],
   "source": [
    "basic_arithmetic()"
   ]
  },
  {
   "cell_type": "code",
   "execution_count": null,
   "id": "34378bf1",
   "metadata": {},
   "outputs": [],
   "source": []
  },
  {
   "cell_type": "code",
   "execution_count": null,
   "id": "a73839fa",
   "metadata": {},
   "outputs": [],
   "source": []
  }
 ],
 "metadata": {
  "kernelspec": {
   "display_name": "Python 3",
   "language": "python",
   "name": "python3"
  },
  "language_info": {
   "codemirror_mode": {
    "name": "ipython",
    "version": 3
   },
   "file_extension": ".py",
   "mimetype": "text/x-python",
   "name": "python",
   "nbconvert_exporter": "python",
   "pygments_lexer": "ipython3",
   "version": "3.8.8"
  }
 },
 "nbformat": 4,
 "nbformat_minor": 5
}
