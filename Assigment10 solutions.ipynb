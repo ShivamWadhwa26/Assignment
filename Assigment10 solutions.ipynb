{
 "cells": [
  {
   "cell_type": "markdown",
   "id": "01115418",
   "metadata": {},
   "source": [
    "Write a Python program to find sum of elements in list?"
   ]
  },
  {
   "cell_type": "code",
   "execution_count": 1,
   "id": "4f449238",
   "metadata": {},
   "outputs": [],
   "source": [
    "def listsum():\n",
    "    \"\"\"\n",
    "    THIS FUNCTION IS TO SUM ELEMENTS IN LIST\n",
    "    \"\"\"\n",
    "    l=eval(input(\"Enter list:\"))\n",
    "    s=0\n",
    "    for i in l:\n",
    "        s+=i\n",
    "    return s"
   ]
  },
  {
   "cell_type": "code",
   "execution_count": 2,
   "id": "c1a9b4a0",
   "metadata": {},
   "outputs": [
    {
     "name": "stdout",
     "output_type": "stream",
     "text": [
      "Enter list:1,2,3,4,5\n"
     ]
    },
    {
     "data": {
      "text/plain": [
       "15"
      ]
     },
     "execution_count": 2,
     "metadata": {},
     "output_type": "execute_result"
    }
   ],
   "source": [
    "listsum()"
   ]
  },
  {
   "cell_type": "markdown",
   "id": "708b071f",
   "metadata": {},
   "source": [
    "Write a Python program to  Multiply all numbers in the list?"
   ]
  },
  {
   "cell_type": "code",
   "execution_count": 3,
   "id": "4f21dfc7",
   "metadata": {},
   "outputs": [],
   "source": [
    "def listmultiply():\n",
    "    \"\"\"\n",
    "    THIS FUNCTION IS TO MULTIPLY ALL NUMBERS IN THE LIST\n",
    "    \"\"\"\n",
    "    l=eval(input(\"Enter list:\"))\n",
    "    s=1\n",
    "    for i in l:\n",
    "        s*=i\n",
    "    return s"
   ]
  },
  {
   "cell_type": "code",
   "execution_count": 4,
   "id": "ef5cf0bc",
   "metadata": {},
   "outputs": [
    {
     "name": "stdout",
     "output_type": "stream",
     "text": [
      "Enter list:1,2,3,4,5\n"
     ]
    },
    {
     "data": {
      "text/plain": [
       "120"
      ]
     },
     "execution_count": 4,
     "metadata": {},
     "output_type": "execute_result"
    }
   ],
   "source": [
    "listmultiply()"
   ]
  },
  {
   "cell_type": "markdown",
   "id": "e687c623",
   "metadata": {},
   "source": [
    "Write a Python program to find smallest number in a list?"
   ]
  },
  {
   "cell_type": "code",
   "execution_count": 5,
   "id": "d0044e98",
   "metadata": {},
   "outputs": [],
   "source": [
    "def smallestlist():\n",
    "    \"\"\"\n",
    "    Function to find smallest number in a list\n",
    "    \"\"\"\n",
    "    l=list(eval(input(\"Enter list:\")))\n",
    "    l.sort()\n",
    "    return l[0]"
   ]
  },
  {
   "cell_type": "code",
   "execution_count": 6,
   "id": "1fc9e832",
   "metadata": {},
   "outputs": [
    {
     "name": "stdout",
     "output_type": "stream",
     "text": [
      "Enter list:12,3,4,5,6\n"
     ]
    },
    {
     "data": {
      "text/plain": [
       "3"
      ]
     },
     "execution_count": 6,
     "metadata": {},
     "output_type": "execute_result"
    }
   ],
   "source": [
    "smallestlist()"
   ]
  },
  {
   "cell_type": "markdown",
   "id": "bf5650fc",
   "metadata": {},
   "source": [
    "Write a Python program to find largest number in a list?"
   ]
  },
  {
   "cell_type": "code",
   "execution_count": 7,
   "id": "d378bace",
   "metadata": {},
   "outputs": [],
   "source": [
    "def largestlist():\n",
    "    \"\"\"\n",
    "    Function to find smallest number in a list\n",
    "    \"\"\"\n",
    "    l=list(eval(input(\"Enter list:\")))\n",
    "    l.sort()\n",
    "    return l[-1]"
   ]
  },
  {
   "cell_type": "code",
   "execution_count": 8,
   "id": "2804682e",
   "metadata": {},
   "outputs": [
    {
     "name": "stdout",
     "output_type": "stream",
     "text": [
      "Enter list:11,22,33,44,55\n"
     ]
    },
    {
     "data": {
      "text/plain": [
       "55"
      ]
     },
     "execution_count": 8,
     "metadata": {},
     "output_type": "execute_result"
    }
   ],
   "source": [
    "largestlist()"
   ]
  },
  {
   "cell_type": "markdown",
   "id": "610c72f1",
   "metadata": {},
   "source": [
    "Write a Python program to find second largest number in a list?"
   ]
  },
  {
   "cell_type": "code",
   "execution_count": 9,
   "id": "80462259",
   "metadata": {},
   "outputs": [],
   "source": [
    "def secondlargestlist():\n",
    "    \"\"\"\n",
    "    Function to find smallest number in a list\n",
    "    \"\"\"\n",
    "    l=list(eval(input(\"Enter list:\")))\n",
    "    l.sort()\n",
    "    return l[-2]"
   ]
  },
  {
   "cell_type": "code",
   "execution_count": 10,
   "id": "d9f15dc4",
   "metadata": {},
   "outputs": [
    {
     "name": "stdout",
     "output_type": "stream",
     "text": [
      "Enter list:11,22,33,44,55,66,77\n"
     ]
    },
    {
     "data": {
      "text/plain": [
       "66"
      ]
     },
     "execution_count": 10,
     "metadata": {},
     "output_type": "execute_result"
    }
   ],
   "source": [
    "secondlargestlist()"
   ]
  },
  {
   "cell_type": "markdown",
   "id": "c0b77c0c",
   "metadata": {},
   "source": [
    "Write a Python program to find N largest elements from a list?"
   ]
  },
  {
   "cell_type": "code",
   "execution_count": 11,
   "id": "c2bb2643",
   "metadata": {},
   "outputs": [],
   "source": [
    "def nlargestlist():\n",
    "    \"\"\"\n",
    "    Function to find smallest number in a list\n",
    "    \"\"\"\n",
    "    l=list(eval(input(\"Enter list:\")))\n",
    "    n=int(input(\"Enter Nth largest element to pick:\"))\n",
    "    l.sort()\n",
    "    return l[-n]"
   ]
  },
  {
   "cell_type": "code",
   "execution_count": 12,
   "id": "c2cb3a8f",
   "metadata": {},
   "outputs": [
    {
     "name": "stdout",
     "output_type": "stream",
     "text": [
      "Enter list:1,2,3,4,55,66,7,77,88\n",
      "Enter Nth largest element to pick:4\n"
     ]
    },
    {
     "data": {
      "text/plain": [
       "55"
      ]
     },
     "execution_count": 12,
     "metadata": {},
     "output_type": "execute_result"
    }
   ],
   "source": [
    "nlargestlist()"
   ]
  },
  {
   "cell_type": "markdown",
   "id": "9a20e828",
   "metadata": {},
   "source": [
    "Write a Python program to print even numbers in a list?"
   ]
  },
  {
   "cell_type": "code",
   "execution_count": 13,
   "id": "2fe7146b",
   "metadata": {},
   "outputs": [],
   "source": [
    "def evenlist():\n",
    "    \"\"\"\n",
    "    Function to print even numbers in a list\n",
    "    \"\"\"\n",
    "    l=list(eval(input(\"Enter list:\")))\n",
    "    #sorting just to add readability\n",
    "    l.sort()\n",
    "    for i in l:\n",
    "        if i%2==0:\n",
    "            print(i)"
   ]
  },
  {
   "cell_type": "code",
   "execution_count": 14,
   "id": "d8bd51f7",
   "metadata": {},
   "outputs": [
    {
     "name": "stdout",
     "output_type": "stream",
     "text": [
      "Enter list:1,2,3,34,4,5,6,67,7,8\n",
      "2\n",
      "4\n",
      "6\n",
      "8\n",
      "34\n"
     ]
    }
   ],
   "source": [
    "evenlist()"
   ]
  },
  {
   "cell_type": "markdown",
   "id": "74b22d7b",
   "metadata": {},
   "source": [
    "Write a Python program to print odd numbers in a List?"
   ]
  },
  {
   "cell_type": "code",
   "execution_count": 15,
   "id": "609e797f",
   "metadata": {},
   "outputs": [],
   "source": [
    "def oddlist():\n",
    "    \"\"\"\n",
    "    Function to print even numbers in a list\n",
    "    \"\"\"\n",
    "    l=list(eval(input(\"Enter list:\")))\n",
    "    #sorting just to add readability\n",
    "    l.sort()\n",
    "    for i in l:\n",
    "        if i%2==1:\n",
    "            print(i)"
   ]
  },
  {
   "cell_type": "code",
   "execution_count": 16,
   "id": "e528c464",
   "metadata": {},
   "outputs": [
    {
     "name": "stdout",
     "output_type": "stream",
     "text": [
      "Enter list:1,2,3,3,4,5,5,6\n",
      "1\n",
      "3\n",
      "3\n",
      "5\n",
      "5\n"
     ]
    }
   ],
   "source": [
    "oddlist()"
   ]
  },
  {
   "cell_type": "markdown",
   "id": "4d92d75a",
   "metadata": {},
   "source": [
    "Write a Python program to Remove empty List from List?"
   ]
  },
  {
   "cell_type": "code",
   "execution_count": 17,
   "id": "08cbfbe9",
   "metadata": {},
   "outputs": [],
   "source": [
    "def remempty():\n",
    "    \"\"\"\n",
    "    Function to remove empty list from list\n",
    "    \"\"\"\n",
    "    l=list(eval(input(\"Enter a list:\")))\n",
    "    e=[]\n",
    "    for i in l:\n",
    "        if i!=[]:\n",
    "            e.append(i)\n",
    "    return e"
   ]
  },
  {
   "cell_type": "code",
   "execution_count": 18,
   "id": "df0f06ec",
   "metadata": {},
   "outputs": [
    {
     "name": "stdout",
     "output_type": "stream",
     "text": [
      "Enter a list:1,1,2,3,4,[],[],[],5,5,[],7\n"
     ]
    },
    {
     "data": {
      "text/plain": [
       "[1, 1, 2, 3, 4, 5, 5, 7]"
      ]
     },
     "execution_count": 18,
     "metadata": {},
     "output_type": "execute_result"
    }
   ],
   "source": [
    "remempty()"
   ]
  },
  {
   "cell_type": "markdown",
   "id": "3743f5af",
   "metadata": {},
   "source": [
    "Write a Python program to Cloning or Copying a list?"
   ]
  },
  {
   "cell_type": "code",
   "execution_count": 19,
   "id": "9f79c152",
   "metadata": {},
   "outputs": [],
   "source": [
    "def listclone():\n",
    "    \"\"\"\n",
    "    Function to Cloning or Copying a list\n",
    "    \"\"\"\n",
    "    l=list(eval(input(\"Enter a list:\")))\n",
    "    clonel=l\n",
    "    return x"
   ]
  },
  {
   "cell_type": "code",
   "execution_count": 22,
   "id": "e81f9e98",
   "metadata": {},
   "outputs": [
    {
     "name": "stdout",
     "output_type": "stream",
     "text": [
      "Enter a list:1,2,3,34\n"
     ]
    },
    {
     "data": {
      "text/plain": [
       "[1, 2, 3, 34]"
      ]
     },
     "execution_count": 22,
     "metadata": {},
     "output_type": "execute_result"
    }
   ],
   "source": [
    "listclone()"
   ]
  },
  {
   "cell_type": "markdown",
   "id": "1e3e8df1",
   "metadata": {},
   "source": [
    "Write a Python program to Count occurrences of an element in a list?"
   ]
  },
  {
   "cell_type": "code",
   "execution_count": 20,
   "id": "67b97651",
   "metadata": {},
   "outputs": [],
   "source": [
    "def occurences():\n",
    "    \"\"\"\n",
    "    Function to Count occurrences of an element in a list?\n",
    "    \"\"\"\n",
    "    l=list(eval(input(\"Enter a list:\")))\n",
    "    y=set(l)\n",
    "    for i in y:\n",
    "        print(\"Occurences of\",i,\"in list:\",l.count(i))"
   ]
  },
  {
   "cell_type": "code",
   "execution_count": 21,
   "id": "d67085e1",
   "metadata": {},
   "outputs": [
    {
     "name": "stdout",
     "output_type": "stream",
     "text": [
      "Enter a list:1,1,1,2,2,2,3,3,4,4,4,4,45,6,7\n",
      "Occurences of 1 in list: 3\n",
      "Occurences of 2 in list: 3\n",
      "Occurences of 3 in list: 2\n",
      "Occurences of 4 in list: 4\n",
      "Occurences of 6 in list: 1\n",
      "Occurences of 7 in list: 1\n",
      "Occurences of 45 in list: 1\n"
     ]
    }
   ],
   "source": [
    "occurences()"
   ]
  }
 ],
 "metadata": {
  "kernelspec": {
   "display_name": "Python 3",
   "language": "python",
   "name": "python3"
  },
  "language_info": {
   "codemirror_mode": {
    "name": "ipython",
    "version": 3
   },
   "file_extension": ".py",
   "mimetype": "text/x-python",
   "name": "python",
   "nbconvert_exporter": "python",
   "pygments_lexer": "ipython3",
   "version": "3.8.8"
  }
 },
 "nbformat": 4,
 "nbformat_minor": 5
}
