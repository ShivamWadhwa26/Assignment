{
 "cells": [
  {
   "cell_type": "markdown",
   "id": "d125b596",
   "metadata": {},
   "source": [
    "Write a Python program to check if the given number is a Disarium Number?"
   ]
  },
  {
   "cell_type": "code",
   "execution_count": 1,
   "id": "df8f5e74",
   "metadata": {},
   "outputs": [],
   "source": [
    "def isdisarium():\n",
    "    \"\"\"\n",
    "    Fuction to check Disarium number:\n",
    "    A number is said to be the Disarium number when the sum of its digit raised to the power of their respective positions is equal to the number itself.\n",
    "    Some of the other examples of Disarium number are 89, 135, 518 etc.\n",
    "    \"\"\"\n",
    "    try:        \n",
    "        n=input(\"Enter a no to check whether it's Disarium or not:\")\n",
    "        p=0\n",
    "        s=0\n",
    "        for i in range(len(n)):\n",
    "            x=n[p]\n",
    "            y=int(x)**(i+1)\n",
    "            s=s+y\n",
    "            p+=1\n",
    "            \n",
    "    except Exception as e:\n",
    "        print(e)\n",
    "    else:\n",
    "        if int(n)==s:\n",
    "            print(int(n),\"is Disarium\")\n",
    "        else:\n",
    "            print(int(n),\"is not Disarium\")"
   ]
  },
  {
   "cell_type": "code",
   "execution_count": 2,
   "id": "db0ebc5c",
   "metadata": {},
   "outputs": [
    {
     "name": "stdout",
     "output_type": "stream",
     "text": [
      "Enter a no to check whether it's Disarium or not:175\n",
      "175 is Disarium\n"
     ]
    }
   ],
   "source": [
    "isdisarium()"
   ]
  },
  {
   "cell_type": "markdown",
   "id": "dc68c824",
   "metadata": {},
   "source": [
    "Write a Python program to print all disarium numbers between 1 to 100?"
   ]
  },
  {
   "cell_type": "code",
   "execution_count": 3,
   "id": "cb757dbe",
   "metadata": {},
   "outputs": [
    {
     "name": "stdout",
     "output_type": "stream",
     "text": [
      "1\n",
      "2\n",
      "3\n",
      "4\n",
      "5\n",
      "6\n",
      "7\n",
      "8\n",
      "9\n",
      "89\n"
     ]
    }
   ],
   "source": [
    "def disarium(n):\n",
    "    \"\"\"\n",
    "    Fuction to check Disarium number\n",
    "    \"\"\"\n",
    "    try:\n",
    "        n=str(n)\n",
    "        p=0\n",
    "        s=0\n",
    "        for i in range(len(n)):\n",
    "            x=n[p]\n",
    "            y=int(x)**(i+1)\n",
    "            s=s+y\n",
    "            p+=1\n",
    "    except Exception as e:\n",
    "        print(e)\n",
    "    else:\n",
    "        if int(n)==s:\n",
    "            print(int(n))\n",
    "\n",
    "for i in range(1,101):\n",
    "             disarium(i)"
   ]
  },
  {
   "cell_type": "markdown",
   "id": "8550863b",
   "metadata": {},
   "source": [
    "Write a Python program to check if the given number is Happy Number?"
   ]
  },
  {
   "cell_type": "code",
   "execution_count": 4,
   "id": "3072a930",
   "metadata": {},
   "outputs": [],
   "source": [
    "def sumsq(n):\n",
    "    \"\"\"\n",
    "    Function to calculate sum of squares\n",
    "    \"\"\"\n",
    "    try:\n",
    "        n=str(n)\n",
    "        k=0\n",
    "        s=0\n",
    "        for i in n:\n",
    "            s=s+int(i)**2\n",
    "    except Exception as e:\n",
    "        print(e)\n",
    "    else:\n",
    "        return s\n",
    "\n",
    "def ishappy():\n",
    "    \"\"\"\n",
    "    Function to check whether no. is Happy no. or not.\n",
    "    In number theory, a happy number is a number which eventually reaches 1 when replaced by the sum of the square of each digit.\n",
    "    \"\"\"\n",
    "    try:\n",
    "        n=input(\"enter a no to check whether no. is Happy no. or not:\")\n",
    "        k=n\n",
    "        visit=set()\n",
    "        s=sumsq(n)\n",
    "        while(1):\n",
    "            if s!=1:\n",
    "                visit.add(s)\n",
    "                n=s\n",
    "                s=sumsq(n)\n",
    "                if s not in visit:\n",
    "                    continue\n",
    "                else:\n",
    "                    print(k,\"is not a Happy no. :C \")\n",
    "                    break\n",
    "            else:\n",
    "                print(k,\"is a Happy no. :D \")\n",
    "                break\n",
    "    except Exception as e:\n",
    "        print(e)\n",
    "\n",
    "    "
   ]
  },
  {
   "cell_type": "code",
   "execution_count": 5,
   "id": "7190d3ad",
   "metadata": {},
   "outputs": [
    {
     "name": "stdout",
     "output_type": "stream",
     "text": [
      "enter a no to check whether no. is Happy no. or not:19\n",
      "19 is a Happy no. :D \n"
     ]
    }
   ],
   "source": [
    "ishappy()"
   ]
  },
  {
   "cell_type": "code",
   "execution_count": 6,
   "id": "d5bbd5aa",
   "metadata": {},
   "outputs": [
    {
     "name": "stdout",
     "output_type": "stream",
     "text": [
      "1\n",
      "7\n",
      "10\n",
      "13\n",
      "19\n",
      "23\n",
      "28\n",
      "31\n",
      "32\n",
      "44\n",
      "49\n",
      "68\n",
      "70\n",
      "79\n",
      "82\n",
      "86\n",
      "91\n",
      "94\n",
      "97\n",
      "100\n"
     ]
    }
   ],
   "source": [
    "def sumsq(n):\n",
    "    \"\"\"\n",
    "    Function to calculate sum of squares\n",
    "    \"\"\"\n",
    "    try:\n",
    "        n=str(n)\n",
    "        k=0\n",
    "        s=0\n",
    "        for i in n:\n",
    "            s=s+int(i)**2\n",
    "    except Exception as e:\n",
    "        print(e)\n",
    "    else:\n",
    "        return s\n",
    "\n",
    "def happy(n):\n",
    "    \"\"\"\n",
    "    Function to check whether no. is Happy no. or not\n",
    "    \"\"\"\n",
    "    try:\n",
    "        k=n\n",
    "        visit=set()\n",
    "        s=sumsq(n)\n",
    "        while(1):\n",
    "            if s!=1:\n",
    "                visit.add(s)\n",
    "                n=s\n",
    "                s=sumsq(n)\n",
    "                if s not in visit:\n",
    "                    continue\n",
    "                else:\n",
    "                    break\n",
    "            else:\n",
    "                print(k)\n",
    "                break\n",
    "                \n",
    "    except Exception as e:\n",
    "            print(e)\n",
    "            \n",
    "            \n",
    "for i in range(1,101):\n",
    "      happy(i)"
   ]
  },
  {
   "cell_type": "code",
   "execution_count": 7,
   "id": "53c171b7",
   "metadata": {},
   "outputs": [],
   "source": [
    "def isharshad():\n",
    "    \"\"\"\n",
    "    A function to check harshad no.\n",
    "    An integer number in base 10 which is divisible by the sum of its digits is said to be a Harshad Number.\n",
    "    \"\"\"\n",
    "    try:\n",
    "        n=input(\"enter a no:\")\n",
    "        s=0\n",
    "        for i in n:\n",
    "            s+=int(i)\n",
    "        if int(n)%s==0:\n",
    "            print(n,\"is Harshad\")\n",
    "    except Exception as e:\n",
    "        print(e)"
   ]
  },
  {
   "cell_type": "code",
   "execution_count": 8,
   "id": "cb6badc9",
   "metadata": {},
   "outputs": [
    {
     "name": "stdout",
     "output_type": "stream",
     "text": [
      "enter a no:18\n",
      "18 is Harshad\n"
     ]
    }
   ],
   "source": [
    "isharshad()"
   ]
  },
  {
   "cell_type": "code",
   "execution_count": 9,
   "id": "9e280e8a",
   "metadata": {},
   "outputs": [
    {
     "name": "stdout",
     "output_type": "stream",
     "text": [
      "1\n",
      "2\n",
      "3\n",
      "4\n",
      "5\n",
      "6\n",
      "7\n",
      "8\n",
      "9\n",
      "10\n",
      "12\n",
      "18\n",
      "20\n",
      "21\n",
      "24\n",
      "27\n",
      "30\n",
      "36\n",
      "40\n",
      "42\n",
      "45\n",
      "48\n",
      "50\n",
      "54\n",
      "60\n",
      "63\n",
      "70\n",
      "72\n",
      "80\n",
      "81\n",
      "84\n",
      "90\n",
      "100\n"
     ]
    }
   ],
   "source": [
    "def harshad(n):\n",
    "    \"\"\"\n",
    "    A function to check harshad no.\n",
    "    \"\"\"\n",
    "    try:\n",
    "        n=str(n)\n",
    "        s=0\n",
    "        for i in n:\n",
    "            s+=int(i)\n",
    "\n",
    "        if int(n)%s==0:\n",
    "            print(n)\n",
    "    except Exception as e:\n",
    "        print(e)\n",
    "\n",
    "        \n",
    "for i in range(1,101):\n",
    "    harshad(i)"
   ]
  }
 ],
 "metadata": {
  "kernelspec": {
   "display_name": "Python 3",
   "language": "python",
   "name": "python3"
  },
  "language_info": {
   "codemirror_mode": {
    "name": "ipython",
    "version": 3
   },
   "file_extension": ".py",
   "mimetype": "text/x-python",
   "name": "python",
   "nbconvert_exporter": "python",
   "pygments_lexer": "ipython3",
   "version": "3.8.8"
  }
 },
 "nbformat": 4,
 "nbformat_minor": 5
}
