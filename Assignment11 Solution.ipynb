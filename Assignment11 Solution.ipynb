{
 "cells": [
  {
   "cell_type": "markdown",
   "id": "6fcc80d3",
   "metadata": {},
   "source": [
    "Write a Python program to find words which are greater than given length k?"
   ]
  },
  {
   "cell_type": "code",
   "execution_count": 1,
   "id": "978d3a45",
   "metadata": {},
   "outputs": [],
   "source": [
    "def wordlen():\n",
    "    \"\"\"\n",
    "    Program to find words which are greater than given length k\n",
    "    \"\"\"\n",
    "    try:\n",
    "        s=input(\"Enter a string:\")\n",
    "        k=eval(input(\"Enter a length k:\"))\n",
    "        for i in s.split(' '):\n",
    "            if len(i)>k:\n",
    "                print(i)\n",
    "    except Exception as e:\n",
    "        print(e)"
   ]
  },
  {
   "cell_type": "code",
   "execution_count": 2,
   "id": "d78b752b",
   "metadata": {},
   "outputs": [
    {
     "name": "stdout",
     "output_type": "stream",
     "text": [
      "Enter a string:what a match wowwww\n",
      "Enter a length k:4\n",
      "match\n",
      "wowwww\n"
     ]
    }
   ],
   "source": [
    "wordlen()"
   ]
  },
  {
   "cell_type": "markdown",
   "id": "3901e96b",
   "metadata": {},
   "source": [
    "Write a Python program for removing i-th character from a string?"
   ]
  },
  {
   "cell_type": "code",
   "execution_count": 3,
   "id": "941d838a",
   "metadata": {},
   "outputs": [],
   "source": [
    "def remcharacter():\n",
    "    \"\"\"\n",
    "    Python program for removing i-th character from a string\n",
    "    \"\"\"\n",
    "    try:\n",
    "        s=input(\"Enter a string:\")\n",
    "        k=eval(input(\"Enter a i-th character to remove:\"))\n",
    "        r=s[:k]+s[k+1:]\n",
    "    except Exception as e:\n",
    "        print(e)\n",
    "    else:\n",
    "        print(k,\"-index character to remove:\",s[k])\n",
    "        print(\"after removing\",k,'-index character:',r)"
   ]
  },
  {
   "cell_type": "code",
   "execution_count": 4,
   "id": "5686748e",
   "metadata": {},
   "outputs": [
    {
     "name": "stdout",
     "output_type": "stream",
     "text": [
      "Enter a string:that's cool\n",
      "Enter a i-th character to remove:5\n",
      "5 -index character to remove: s\n",
      "after removing 5 -index character: that' cool\n"
     ]
    }
   ],
   "source": [
    "remcharacter()"
   ]
  },
  {
   "cell_type": "markdown",
   "id": "c09b0eb1",
   "metadata": {},
   "source": [
    "Write a Python program to split and join a string?"
   ]
  },
  {
   "cell_type": "code",
   "execution_count": 5,
   "id": "97056329",
   "metadata": {},
   "outputs": [],
   "source": [
    "def splitstring():\n",
    "    \"\"\"\n",
    "    Program to split string with \" \"\n",
    "    \"\"\"\n",
    "    s=input(\"Enter a string:\")\n",
    "    return s.split(\" \")\n",
    "\n",
    "        \n",
    "def joinstring():\n",
    "    \"\"\"\n",
    "    Program to join a string with _\n",
    "    \"\"\"\n",
    "    j=splitstring()\n",
    "    return '_'.join(j)"
   ]
  },
  {
   "cell_type": "code",
   "execution_count": 15,
   "id": "9d1c486e",
   "metadata": {},
   "outputs": [
    {
     "name": "stdout",
     "output_type": "stream",
     "text": [
      "Enter a string:that's great\n"
     ]
    },
    {
     "data": {
      "text/plain": [
       "\"that's_great\""
      ]
     },
     "execution_count": 15,
     "metadata": {},
     "output_type": "execute_result"
    }
   ],
   "source": [
    "joinstring()"
   ]
  },
  {
   "cell_type": "code",
   "execution_count": 16,
   "id": "1d12a585",
   "metadata": {},
   "outputs": [
    {
     "name": "stdout",
     "output_type": "stream",
     "text": [
      "Enter a string:split me\n"
     ]
    },
    {
     "data": {
      "text/plain": [
       "['split', 'me']"
      ]
     },
     "execution_count": 16,
     "metadata": {},
     "output_type": "execute_result"
    }
   ],
   "source": [
    "splitstring()"
   ]
  },
  {
   "cell_type": "markdown",
   "id": "49dee2a6",
   "metadata": {},
   "source": [
    "Write a Python to check if a given string is binary string or not?"
   ]
  },
  {
   "cell_type": "code",
   "execution_count": 7,
   "id": "f792e8b9",
   "metadata": {},
   "outputs": [],
   "source": [
    "def checkbin() :\n",
    "    \"\"\"\n",
    "    Python Program to check if a given string is binary string or not\n",
    "    \"\"\"\n",
    "    b = set(input(\"Enter a string to check whether it's binary or not:\"))\n",
    "    s = {'0', '1'}\n",
    "    if s == b or b == {'0'} or b == {'1'}:\n",
    "        print(\"Binary String\")\n",
    "    else :\n",
    "        print(\"Non Binary String\")"
   ]
  },
  {
   "cell_type": "code",
   "execution_count": 8,
   "id": "c713c9a5",
   "metadata": {},
   "outputs": [
    {
     "name": "stdout",
     "output_type": "stream",
     "text": [
      "Enter a string to check whether it's binary or not:1100011\n",
      "Binary String\n"
     ]
    }
   ],
   "source": [
    "checkbin()"
   ]
  },
  {
   "cell_type": "markdown",
   "id": "13dc06a7",
   "metadata": {},
   "source": [
    "Write a Python program to find uncommon words from two Strings?"
   ]
  },
  {
   "cell_type": "code",
   "execution_count": 9,
   "id": "e6824680",
   "metadata": {},
   "outputs": [],
   "source": [
    "def uncommon():\n",
    "    \"\"\"\n",
    "    Python program to find uncommon words from two Strings\n",
    "    \"\"\"\n",
    "    x=set(input(\"Enter 1st string:\").lower())\n",
    "    y=set(input(\"Enter 2nd string:\").lower())\n",
    "    print(\"Uncommon words:\",x.union(y)-y.intersection(x))\n",
    "    "
   ]
  },
  {
   "cell_type": "code",
   "execution_count": 10,
   "id": "200338ff",
   "metadata": {},
   "outputs": [
    {
     "name": "stdout",
     "output_type": "stream",
     "text": [
      "Enter 1st string:abababababa\n",
      "Enter 2nd string:abc\n",
      "Uncommon words: {'c'}\n"
     ]
    }
   ],
   "source": [
    "uncommon()"
   ]
  },
  {
   "cell_type": "markdown",
   "id": "cbed669d",
   "metadata": {},
   "source": [
    "Write a Python to find all duplicate characters in string?"
   ]
  },
  {
   "cell_type": "code",
   "execution_count": 11,
   "id": "9d8a5168",
   "metadata": {},
   "outputs": [],
   "source": [
    "def dupchar():\n",
    "    \"\"\"\n",
    "    find all duplicate characters in string\n",
    "    \"\"\"\n",
    "    a=input(\"enter a string to check duplicates\").lower()\n",
    "    d=[]\n",
    "    for i in set(a):\n",
    "        if a.count(i)>1:\n",
    "            d.append(i)\n",
    "    return d"
   ]
  },
  {
   "cell_type": "code",
   "execution_count": 12,
   "id": "88bf84f7",
   "metadata": {},
   "outputs": [
    {
     "name": "stdout",
     "output_type": "stream",
     "text": [
      "enter a string to check duplicatesaaaabbbxyyz\n"
     ]
    },
    {
     "data": {
      "text/plain": [
       "['a', 'b', 'y']"
      ]
     },
     "execution_count": 12,
     "metadata": {},
     "output_type": "execute_result"
    }
   ],
   "source": [
    "dupchar()"
   ]
  },
  {
   "cell_type": "markdown",
   "id": "b5d252cf",
   "metadata": {},
   "source": [
    "Write a Python Program to check if a string contains any special character"
   ]
  },
  {
   "cell_type": "code",
   "execution_count": 13,
   "id": "2868e28a",
   "metadata": {},
   "outputs": [],
   "source": [
    "import re\n",
    "def spcchar():\n",
    "    \"\"\"\n",
    "    Python Program to check if a string contains any special character\n",
    "    \"\"\"\n",
    "    x=input(\"enter a string to check duplicates\")\n",
    "    return len(re.findall(r\"[, .!?]\", x))"
   ]
  },
  {
   "cell_type": "code",
   "execution_count": 14,
   "id": "623bc4d4",
   "metadata": {},
   "outputs": [
    {
     "name": "stdout",
     "output_type": "stream",
     "text": [
      "enter a string to check duplicatesthas's grea!!!!\n"
     ]
    },
    {
     "data": {
      "text/plain": [
       "5"
      ]
     },
     "execution_count": 14,
     "metadata": {},
     "output_type": "execute_result"
    }
   ],
   "source": [
    "spcchar()"
   ]
  }
 ],
 "metadata": {
  "kernelspec": {
   "display_name": "Python 3",
   "language": "python",
   "name": "python3"
  },
  "language_info": {
   "codemirror_mode": {
    "name": "ipython",
    "version": 3
   },
   "file_extension": ".py",
   "mimetype": "text/x-python",
   "name": "python",
   "nbconvert_exporter": "python",
   "pygments_lexer": "ipython3",
   "version": "3.8.8"
  }
 },
 "nbformat": 4,
 "nbformat_minor": 5
}
