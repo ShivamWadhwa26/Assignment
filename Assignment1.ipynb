{
 "cells": [
  {
   "cell_type": "markdown",
   "id": "a118f9b5",
   "metadata": {},
   "source": [
    "## Write a Python program to print \"Hello Python\"?"
   ]
  },
  {
   "cell_type": "code",
   "execution_count": 3,
   "id": "84e22d20",
   "metadata": {},
   "outputs": [
    {
     "name": "stdout",
     "output_type": "stream",
     "text": [
      "Hello Python\n"
     ]
    }
   ],
   "source": [
    "print(\"Hello Python\")"
   ]
  },
  {
   "cell_type": "markdown",
   "id": "df27261f",
   "metadata": {},
   "source": [
    "## Write a Python program to do arithmetical operations addition and division.?"
   ]
  },
  {
   "cell_type": "code",
   "execution_count": 8,
   "id": "50da74ae",
   "metadata": {},
   "outputs": [
    {
     "name": "stdout",
     "output_type": "stream",
     "text": [
      "input the first no. i.e a :10\n",
      "input the second no. i.e b :5\n",
      "Addition of a and b is: 15.0\n",
      "Division of a by b is: 2.0\n"
     ]
    }
   ],
   "source": [
    "a=float(input(\"input the first no. i.e a :\"))\n",
    "b=float(input(\"input the second no. i.e b :\"))\n",
    "print(\"Addition of a and b is:\",a+b)\n",
    "print(\"Division of a by b is:\",a/b)"
   ]
  },
  {
   "cell_type": "markdown",
   "id": "5f66f39d",
   "metadata": {},
   "source": [
    "## Write a Python program to find the area of a triangle?"
   ]
  },
  {
   "cell_type": "code",
   "execution_count": 10,
   "id": "7a74971c",
   "metadata": {},
   "outputs": [
    {
     "name": "stdout",
     "output_type": "stream",
     "text": [
      "Enter base of triangle:10\n",
      "Enter height of triangle:5\n",
      "Area of triangle: 25.0\n"
     ]
    }
   ],
   "source": [
    "base=float(input(\"Enter base of triangle:\"))\n",
    "height=float(input(\"Enter height of triangle:\"))\n",
    "print(\"Area of triangle:\",(1/2)*base*height)"
   ]
  },
  {
   "cell_type": "markdown",
   "id": "66ebd705",
   "metadata": {},
   "source": [
    "## Write a Python program to swap two variables?"
   ]
  },
  {
   "cell_type": "code",
   "execution_count": 14,
   "id": "d041d0cf",
   "metadata": {},
   "outputs": [
    {
     "name": "stdout",
     "output_type": "stream",
     "text": [
      "Enter first no:5\n",
      "Enter second no:10\n",
      "after swapping first no: 10 and second no: 5\n"
     ]
    }
   ],
   "source": [
    "a=int(input(\"Enter first no:\"))\n",
    "b=int(input(\"Enter second no:\"))\n",
    "c=a\n",
    "a=b\n",
    "b=c\n",
    "print(\"after swapping first no:\",a,\"and second no:\",b)"
   ]
  },
  {
   "cell_type": "markdown",
   "id": "391b4471",
   "metadata": {},
   "source": [
    "## Write a Python program to generate a random number?"
   ]
  },
  {
   "cell_type": "code",
   "execution_count": 18,
   "id": "5275f108",
   "metadata": {},
   "outputs": [
    {
     "name": "stdout",
     "output_type": "stream",
     "text": [
      "enter first no:5\n",
      "enter second no:20\n",
      "random number between 5 and 20 is 13\n"
     ]
    }
   ],
   "source": [
    "import random\n",
    "a=int(input(\"enter first no:\"))\n",
    "b=int(input(\"enter second no:\"))\n",
    "print(\"random number between\",a,\"and\",b,\"is\",random.randint(a,b))"
   ]
  }
 ],
 "metadata": {
  "kernelspec": {
   "display_name": "Python 3",
   "language": "python",
   "name": "python3"
  },
  "language_info": {
   "codemirror_mode": {
    "name": "ipython",
    "version": 3
   },
   "file_extension": ".py",
   "mimetype": "text/x-python",
   "name": "python",
   "nbconvert_exporter": "python",
   "pygments_lexer": "ipython3",
   "version": "3.8.8"
  }
 },
 "nbformat": 4,
 "nbformat_minor": 5
}
